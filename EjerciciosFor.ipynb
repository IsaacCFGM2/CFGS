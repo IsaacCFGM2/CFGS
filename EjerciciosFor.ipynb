{
 "cells": [
  {
   "cell_type": "code",
   "execution_count": null,
   "metadata": {},
   "outputs": [
    {
     "name": "stdout",
     "output_type": "stream",
     "text": [
      "4 no es mayor que el primer numero 7.\n"
     ]
    }
   ],
   "source": [
    "#1-Escriba un programa que pregunte cuántos números se van a introducir, pida esos números, y muestre un mensaje cada vez que un número no sea mayor que el primero.\n",
    "cantidad = int(input(\"Pon la cantidad de numeros que vas a introducir\"))\n",
    "primer_numero = int(input(\"Introduce el primer número: \"))\n",
    "for i in range(1, cantidad):\n",
    "    numero = int(input(f\"Introduce el número {i + 1}: \"))\n",
    "    if numero <= primer_numero:\n",
    "        print(f\"{numero} no es mayor que el primer numero {primer_numero}.\")\n",
    "        "
   ]
  },
  {
   "cell_type": "code",
   "execution_count": 21,
   "metadata": {},
   "outputs": [
    {
     "name": "stdout",
     "output_type": "stream",
     "text": [
      "El numero mayor es 9, el menor 9 y la media 9.0\n"
     ]
    }
   ],
   "source": [
    "#2-Escriba un programa que pregunte cuántos números se van a introducir, pida esos números, y escriba el mayor, el menor y la media aritmética.\n",
    "# Se recuerda que la media aritmética de un conjunto de valores es la suma de esos valores dividida por la cantidad de valores.\n",
    "cantidad2 = int(input(\"Pon la cantidad de numeros que vas a introducir\"))\n",
    "numeros = []\n",
    "for i in range(cantidad2):\n",
    "    numero2=int(input(f\"Meta el numero {i+1}\"))\n",
    "    numeros.append(numero)\n",
    "mayor=max(numeros)\n",
    "minimo=min(numeros)\n",
    "media=sum(numeros)/cantidad2\n",
    "print(f\"El numero mayor es {mayor}, el menor {minimo} y la media {media}\")\n",
    "    "
   ]
  },
  {
   "cell_type": "code",
   "execution_count": 4,
   "metadata": {},
   "outputs": [
    {
     "name": "stdout",
     "output_type": "stream",
     "text": [
      "Suma: 10.0\n"
     ]
    }
   ],
   "source": [
    "#3-Escriba un programa que pregunte cuantos números se van a introducir, pida esos números (que puedan ser decimales) y calcule su suma.\n",
    "cantidad3 = int(input(\"Pon la cantidad de numeros que vas a introducir\"))\n",
    "suma = 0\n",
    "for _ in range(cantidad3):\n",
    "    suma += float(input(\"Número: \"))\n",
    "print(\"Resultado de la suma:\", suma)"
   ]
  },
  {
   "cell_type": "code",
   "execution_count": null,
   "metadata": {},
   "outputs": [],
   "source": [
    "#4-Escriba un programa que pida dos números enteros y escriba la suma de todos los enteros desde el primer número hasta el segundo.Mejore el programa anterior haciendo que el programa escriba la suma realizada\n"
   ]
  }
 ],
 "metadata": {
  "kernelspec": {
   "display_name": "Python 3",
   "language": "python",
   "name": "python3"
  },
  "language_info": {
   "codemirror_mode": {
    "name": "ipython",
    "version": 3
   },
   "file_extension": ".py",
   "mimetype": "text/x-python",
   "name": "python",
   "nbconvert_exporter": "python",
   "pygments_lexer": "ipython3",
   "version": "3.12.7"
  }
 },
 "nbformat": 4,
 "nbformat_minor": 2
}
